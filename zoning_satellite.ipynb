{
  "nbformat": 4,
  "nbformat_minor": 0,
  "metadata": {
    "colab": {
      "name": "zoning_satellite.ipynb",
      "provenance": [],
      "authorship_tag": "ABX9TyO5ZePumMRsseddaCJY8kUk",
      "include_colab_link": true
    },
    "kernelspec": {
      "name": "python3",
      "display_name": "Python 3"
    },
    "language_info": {
      "name": "python"
    }
  },
  "cells": [
    {
      "cell_type": "markdown",
      "metadata": {
        "id": "view-in-github",
        "colab_type": "text"
      },
      "source": [
        "<a href=\"https://colab.research.google.com/github/hyunjaec/MScA_Deep_Learning_Project/blob/main/zoning_satellite.ipynb\" target=\"_parent\"><img src=\"https://colab.research.google.com/assets/colab-badge.svg\" alt=\"Open In Colab\"/></a>"
      ]
    },
    {
      "cell_type": "code",
      "execution_count": 8,
      "metadata": {
        "id": "gCDOBzcHLnaG"
      },
      "outputs": [],
      "source": [
        "import numpy as np\n",
        "import pandas as pd\n",
        "import matplotlib.pyplot as plt\n",
        "import re\n",
        "import numpy as np\n",
        "import seaborn as sns\n",
        "import matplotlib.pyplot as plt\n",
        "%matplotlib inline\n",
        "import warnings\n",
        "from scipy import ndimage, signal as sg\n",
        "from skimage import data, filters, io, color\n",
        "from sklearn.model_selection import train_test_split\n",
        "from PIL import Image\n",
        "import glob\n",
        "import cv2"
      ]
    },
    {
      "cell_type": "code",
      "source": [
        "!pwd"
      ],
      "metadata": {
        "id": "tRQomTuPMemN",
        "outputId": "005d1ea2-4315-4762-c9b1-94c921ccdf25",
        "colab": {
          "base_uri": "https://localhost:8080/"
        }
      },
      "execution_count": 9,
      "outputs": [
        {
          "output_type": "stream",
          "name": "stdout",
          "text": [
            "/content\n"
          ]
        }
      ]
    },
    {
      "cell_type": "code",
      "source": [
        "#connect colab with google drive\n",
        "from google.colab import drive\n",
        "drive.mount('/content/drive')"
      ],
      "metadata": {
        "id": "aN-qlxk2MhEg",
        "outputId": "2cee0dd9-5f8f-41ce-df47-fe1886bd26ff",
        "colab": {
          "base_uri": "https://localhost:8080/"
        }
      },
      "execution_count": 10,
      "outputs": [
        {
          "output_type": "stream",
          "name": "stdout",
          "text": [
            "Drive already mounted at /content/drive; to attempt to forcibly remount, call drive.mount(\"/content/drive\", force_remount=True).\n"
          ]
        }
      ]
    },
    {
      "cell_type": "code",
      "source": [
        "!ls '/content/drive/MyDrive/data'"
      ],
      "metadata": {
        "id": "vKO-f_lvMhmg",
        "outputId": "bd19b6cd-6792-4c7d-c5c3-dcff2f9d5e0b",
        "colab": {
          "base_uri": "https://localhost:8080/"
        }
      },
      "execution_count": 12,
      "outputs": [
        {
          "output_type": "stream",
          "name": "stdout",
          "text": [
            "austin_1005.jpg  austin_1895.jpg  austin_2608.jpg  austin_3473.jpg\n",
            "austin_1010.jpg  austin_1896.jpg  austin_2609.jpg  austin_3474.jpg\n",
            "austin_1011.jpg  austin_1897.jpg  austin_2618.jpg  austin_3475.jpg\n",
            "austin_1038.jpg  austin_1908.jpg  austin_2619.jpg  austin_3476.jpg\n",
            "austin_1048.jpg  austin_1909.jpg  austin_2620.jpg  austin_3477.jpg\n",
            "austin_1049.jpg  austin_190.jpg   austin_2622.jpg  austin_3488.jpg\n",
            "austin_1058.jpg  austin_1918.jpg  austin_2623.jpg  austin_3489.jpg\n",
            "austin_1059.jpg  austin_1919.jpg  austin_2624.jpg  austin_3498.jpg\n",
            "austin_1060.jpg  austin_191.jpg   austin_2625.jpg  austin_3499.jpg\n",
            "austin_1061.jpg  austin_1920.jpg  austin_2626.jpg  austin_3500.jpg\n",
            "austin_1062.jpg  austin_1921.jpg  austin_2627.jpg  austin_3501.jpg\n",
            "austin_1063.jpg  austin_1924.jpg  austin_2630.jpg  austin_3502.jpg\n",
            "austin_1064.jpg  austin_1925.jpg  austin_2631.jpg  austin_3503.jpg\n",
            "austin_1065.jpg  austin_1926.jpg  austin_2632.jpg  austin_3504.jpg\n",
            "austin_1066.jpg  austin_1927.jpg  austin_2633.jpg  austin_3505.jpg\n",
            "austin_1067.jpg  austin_1930.jpg  austin_2634.jpg  austin_3506.jpg\n",
            "austin_1070.jpg  austin_1931.jpg  austin_2635.jpg  austin_3507.jpg\n",
            "austin_1071.jpg  austin_1932.jpg  austin_2636.jpg  austin_350.jpg\n",
            "austin_1072.jpg  austin_1933.jpg  austin_2637.jpg  austin_3510.jpg\n",
            "austin_1073.jpg  austin_1934.jpg  austin_2646.jpg  austin_3511.jpg\n",
            "austin_1074.jpg  austin_1935.jpg  austin_2652.jpg  austin_3512.jpg\n",
            "austin_1075.jpg  austin_1936.jpg  austin_2726.jpg  austin_3513.jpg\n",
            "austin_1077.jpg  austin_194.jpg   austin_2732.jpg  austin_3514.jpg\n",
            "austin_1089.jpg  austin_1950.jpg  austin_2741.jpg  austin_3515.jpg\n",
            "austin_1098.jpg  austin_195.jpg   austin_2742.jpg  austin_3516.jpg\n",
            "austin_1099.jpg  austin_196.jpg   austin_2743.jpg  austin_3517.jpg\n",
            "austin_1100.jpg  austin_1978.jpg  austin_2744.jpg  austin_351.jpg\n",
            "austin_1101.jpg  austin_1979.jpg  austin_2745.jpg  austin_3528.jpg\n",
            "austin_1103.jpg  austin_197.jpg   austin_2746.jpg  austin_3529.jpg\n",
            "austin_1104.jpg  austin_1986.jpg  austin_2747.jpg  austin_3538.jpg\n",
            "austin_1105.jpg  austin_1987.jpg  austin_2750.jpg  austin_3539.jpg\n",
            "austin_1106.jpg  austin_1992.jpg  austin_2751.jpg  austin_354.jpg\n",
            "austin_1107.jpg  austin_2008.jpg  austin_2752.jpg  austin_3558.jpg\n",
            "austin_1110.jpg  austin_2009.jpg  austin_2753.jpg  austin_355.jpg\n",
            "austin_1111.jpg  austin_2018.jpg  austin_2754.jpg  austin_3564.jpg\n",
            "austin_1112.jpg  austin_2019.jpg  austin_2755.jpg  austin_356.jpg\n",
            "austin_1113.jpg  austin_2020.jpg  austin_2756.jpg  austin_3570.jpg\n",
            "austin_1114.jpg  austin_2021.jpg  austin_2757.jpg  austin_357.jpg\n",
            "austin_1115.jpg  austin_2022.jpg  austin_2769.jpg  austin_3606.jpg\n",
            "austin_1116.jpg  austin_2023.jpg  austin_2778.jpg  austin_3607.jpg\n",
            "austin_1117.jpg  austin_2024.jpg  austin_2779.jpg  austin_3612.jpg\n",
            "austin_1128.jpg  austin_2025.jpg  austin_2780.jpg  austin_3648.jpg\n",
            "austin_1129.jpg  austin_2026.jpg  austin_2781.jpg  austin_3649.jpg\n",
            "austin_1138.jpg  austin_2027.jpg  austin_2782.jpg  austin_3658.jpg\n",
            "austin_1139.jpg  austin_2030.jpg  austin_2783.jpg  austin_3659.jpg\n",
            "austin_1159.jpg  austin_2031.jpg  austin_2784.jpg  austin_3660.jpg\n",
            "austin_1165.jpg  austin_2033.jpg  austin_2785.jpg  austin_3661.jpg\n",
            "austin_1249.jpg  austin_2034.jpg  austin_2786.jpg  austin_3662.jpg\n",
            "austin_1258.jpg  austin_2035.jpg  austin_2787.jpg  austin_3663.jpg\n",
            "austin_1259.jpg  austin_2036.jpg  austin_2790.jpg  austin_3664.jpg\n",
            "austin_1260.jpg  austin_2037.jpg  austin_2791.jpg  austin_3665.jpg\n",
            "austin_1262.jpg  austin_2040.jpg  austin_2792.jpg  austin_3666.jpg\n",
            "austin_1263.jpg  austin_2068.jpg  austin_2793.jpg  austin_368.jpg\n",
            "austin_1264.jpg  austin_2083.jpg  austin_2794.jpg  austin_369.jpg\n",
            "austin_1265.jpg  austin_208.jpg   austin_2795.jpg  austin_378.jpg\n",
            "austin_1266.jpg  austin_2097.jpg  austin_2796.jpg  austin_379.jpg\n",
            "austin_1267.jpg  austin_209.jpg   austin_2797.jpg  austin_380.jpg\n",
            "austin_1270.jpg  austin_2108.jpg  austin_2800.jpg  austin_381.jpg\n",
            "austin_1271.jpg  austin_2120.jpg  austin_2801.jpg  austin_382.jpg\n",
            "austin_1272.jpg  austin_2134.jpg  austin_2802.jpg  austin_383.jpg\n",
            "austin_1273.jpg  austin_2140.jpg  austin_2803.jpg  austin_385.jpg\n",
            "austin_1274.jpg  austin_2141.jpg  austin_2804.jpg  austin_386.jpg\n",
            "austin_1276.jpg  austin_2142.jpg  austin_2805.jpg  austin_387.jpg\n",
            "austin_1277.jpg  austin_2143.jpg  austin_2806.jpg  austin_390.jpg\n",
            "austin_1288.jpg  austin_2144.jpg  austin_2807.jpg  austin_392.jpg\n",
            "austin_1289.jpg  austin_2145.jpg  austin_2810.jpg  austin_393.jpg\n",
            "austin_1298.jpg  austin_2146.jpg  austin_2811.jpg  austin_394.jpg\n",
            "austin_1299.jpg  austin_2147.jpg  austin_2812.jpg  austin_395.jpg\n",
            "austin_1300.jpg  austin_2150.jpg  austin_2813.jpg  austin_396.jpg\n",
            "austin_1302.jpg  austin_2151.jpg  austin_2814.jpg  austin_397.jpg\n",
            "austin_1303.jpg  austin_2152.jpg  austin_2815.jpg  austin_418.jpg\n",
            "austin_1304.jpg  austin_2154.jpg  austin_2816.jpg  austin_419.jpg\n",
            "austin_1305.jpg  austin_2155.jpg  austin_2817.jpg  austin_422.jpg\n",
            "austin_1306.jpg  austin_2156.jpg  austin_2828.jpg  austin_423.jpg\n",
            "austin_1307.jpg  austin_2157.jpg  austin_2829.jpg  austin_424.jpg\n",
            "austin_1310.jpg  austin_2168.jpg  austin_2838.jpg  austin_425.jpg\n",
            "austin_1311.jpg  austin_2169.jpg  austin_2839.jpg  austin_426.jpg\n",
            "austin_1312.jpg  austin_2178.jpg  austin_2849.jpg  austin_427.jpg\n",
            "austin_1313.jpg  austin_2179.jpg  austin_2861.jpg  austin_430.jpg\n",
            "austin_1315.jpg  austin_2180.jpg  austin_2901.jpg  austin_431.jpg\n",
            "austin_1316.jpg  austin_2181.jpg  austin_2915.jpg  austin_432.jpg\n",
            "austin_1317.jpg  austin_2182.jpg  austin_2929.jpg  austin_433.jpg\n",
            "austin_1329.jpg  austin_2183.jpg  austin_2948.jpg  austin_436.jpg\n",
            "austin_1338.jpg  austin_2184.jpg  austin_2949.jpg  austin_437.jpg\n",
            "austin_1339.jpg  austin_2185.jpg  austin_2958.jpg  austin_48.jpg\n",
            "austin_1367.jpg  austin_2186.jpg  austin_2959.jpg  austin_491.jpg\n",
            "austin_140.jpg\t austin_2187.jpg  austin_2960.jpg  austin_49.jpg\n",
            "austin_1415.jpg  austin_218.jpg   austin_2961.jpg  austin_533.jpg\n",
            "austin_141.jpg\t austin_2190.jpg  austin_2962.jpg  austin_540.jpg\n",
            "austin_142.jpg\t austin_2191.jpg  austin_2963.jpg  austin_541.jpg\n",
            "austin_143.jpg\t austin_2192.jpg  austin_2964.jpg  austin_542.jpg\n",
            "austin_1448.jpg  austin_2193.jpg  austin_2965.jpg  austin_543.jpg\n",
            "austin_1449.jpg  austin_2194.jpg  austin_2966.jpg  austin_544.jpg\n",
            "austin_1458.jpg  austin_2195.jpg  austin_2967.jpg  austin_545.jpg\n",
            "austin_1459.jpg  austin_2196.jpg  austin_2970.jpg  austin_546.jpg\n",
            "austin_1460.jpg  austin_2197.jpg  austin_2971.jpg  austin_547.jpg\n",
            "austin_1461.jpg  austin_219.jpg   austin_2972.jpg  austin_550.jpg\n",
            "austin_1462.jpg  austin_2208.jpg  austin_2973.jpg  austin_551.jpg\n",
            "austin_1463.jpg  austin_2209.jpg  austin_2974.jpg  austin_552.jpg\n",
            "austin_1464.jpg  austin_220.jpg   austin_2975.jpg  austin_553.jpg\n",
            "austin_1465.jpg  austin_221.jpg   austin_2976.jpg  austin_555.jpg\n",
            "austin_1466.jpg  austin_2220.jpg  austin_2977.jpg  austin_556.jpg\n",
            "austin_1467.jpg  austin_2221.jpg  austin_2988.jpg  austin_557.jpg\n",
            "austin_146.jpg\t austin_2222.jpg  austin_2989.jpg  austin_569.jpg\n",
            "austin_1470.jpg  austin_2223.jpg  austin_2998.jpg  austin_578.jpg\n",
            "austin_1471.jpg  austin_2225.jpg  austin_2999.jpg  austin_579.jpg\n",
            "austin_1474.jpg  austin_2226.jpg  austin_3000.jpg  austin_580.jpg\n",
            "austin_1475.jpg  austin_2227.jpg  austin_3014.jpg  austin_581.jpg\n",
            "austin_1476.jpg  austin_222.jpg   austin_3028.jpg  austin_582.jpg\n",
            "austin_1477.jpg  austin_2230.jpg  austin_3048.jpg  austin_584.jpg\n",
            "austin_147.jpg\t austin_2231.jpg  austin_3049.jpg  austin_585.jpg\n",
            "austin_1488.jpg  austin_2232.jpg  austin_3058.jpg  austin_586.jpg\n",
            "austin_1489.jpg  austin_2233.jpg  austin_3059.jpg  austin_587.jpg\n",
            "austin_1498.jpg  austin_2234.jpg  austin_3060.jpg  austin_590.jpg\n",
            "austin_1500.jpg  austin_2235.jpg  austin_3061.jpg  austin_591.jpg\n",
            "austin_1501.jpg  austin_2236.jpg  austin_3062.jpg  austin_592.jpg\n",
            "austin_1502.jpg  austin_2237.jpg  austin_3063.jpg  austin_593.jpg\n",
            "austin_1503.jpg  austin_223.jpg   austin_3064.jpg  austin_594.jpg\n",
            "austin_1504.jpg  austin_2242.jpg  austin_3065.jpg  austin_595.jpg\n",
            "austin_1505.jpg  austin_2243.jpg  austin_3066.jpg  austin_596.jpg\n",
            "austin_1507.jpg  austin_224.jpg   austin_3067.jpg  austin_608.jpg\n",
            "austin_1510.jpg  austin_2256.jpg  austin_3070.jpg  austin_609.jpg\n",
            "austin_1511.jpg  austin_2257.jpg  austin_3071.jpg  austin_60.jpg\n",
            "austin_1512.jpg  austin_225.jpg   austin_3072.jpg  austin_618.jpg\n",
            "austin_1513.jpg  austin_227.jpg   austin_3073.jpg  austin_619.jpg\n",
            "austin_1514.jpg  austin_2294.jpg  austin_3074.jpg  austin_61.jpg\n",
            "austin_1515.jpg  austin_230.jpg   austin_3075.jpg  austin_620.jpg\n",
            "austin_1516.jpg  austin_231.jpg   austin_3076.jpg  austin_621.jpg\n",
            "austin_1517.jpg  austin_2322.jpg  austin_3077.jpg  austin_622.jpg\n",
            "austin_1528.jpg  austin_233.jpg   austin_3088.jpg  austin_624.jpg\n",
            "austin_1529.jpg  austin_2340.jpg  austin_3089.jpg  austin_625.jpg\n",
            "austin_152.jpg\t austin_2341.jpg  austin_3098.jpg  austin_626.jpg\n",
            "austin_1538.jpg  austin_2342.jpg  austin_3099.jpg  austin_627.jpg\n",
            "austin_1539.jpg  austin_2343.jpg  austin_3100.jpg  austin_62.jpg\n",
            "austin_153.jpg\t austin_2344.jpg  austin_3101.jpg  austin_630.jpg\n",
            "austin_154.jpg\t austin_2345.jpg  austin_3102.jpg  austin_631.jpg\n",
            "austin_155.jpg\t austin_2346.jpg  austin_3103.jpg  austin_632.jpg\n",
            "austin_1561.jpg  austin_2347.jpg  austin_3104.jpg  austin_633.jpg\n",
            "austin_156.jpg\t austin_234.jpg   austin_3105.jpg  austin_634.jpg\n",
            "austin_157.jpg\t austin_2350.jpg  austin_3106.jpg  austin_635.jpg\n",
            "austin_1603.jpg  austin_2351.jpg  austin_3107.jpg  austin_63.jpg\n",
            "austin_1648.jpg  austin_2352.jpg  austin_3110.jpg  austin_67.jpg\n",
            "austin_1649.jpg  austin_2353.jpg  austin_3111.jpg  austin_72.jpg\n",
            "austin_1658.jpg  austin_2354.jpg  austin_3112.jpg  austin_73.jpg\n",
            "austin_1659.jpg  austin_2355.jpg  austin_3114.jpg  austin_740.jpg\n",
            "austin_1660.jpg  austin_2356.jpg  austin_3115.jpg  austin_741.jpg\n",
            "austin_1661.jpg  austin_2357.jpg  austin_3116.jpg  austin_742.jpg\n",
            "austin_1662.jpg  austin_235.jpg   austin_3117.jpg  austin_744.jpg\n",
            "austin_1663.jpg  austin_2368.jpg  austin_3128.jpg  austin_745.jpg\n",
            "austin_1664.jpg  austin_2369.jpg  austin_3129.jpg  austin_746.jpg\n",
            "austin_1665.jpg  austin_236.jpg   austin_3138.jpg  austin_747.jpg\n",
            "austin_1666.jpg  austin_2378.jpg  austin_3139.jpg  austin_74.jpg\n",
            "austin_1667.jpg  austin_2379.jpg  austin_3149.jpg  austin_750.jpg\n",
            "austin_1670.jpg  austin_237.jpg   austin_3160.jpg  austin_751.jpg\n",
            "austin_1671.jpg  austin_2380.jpg  austin_3174.jpg  austin_752.jpg\n",
            "austin_1672.jpg  austin_2381.jpg  austin_3216.jpg  austin_753.jpg\n",
            "austin_1673.jpg  austin_2382.jpg  austin_3248.jpg  austin_754.jpg\n",
            "austin_1674.jpg  austin_2383.jpg  austin_3249.jpg  austin_755.jpg\n",
            "austin_1675.jpg  austin_2384.jpg  austin_3258.jpg  austin_75.jpg\n",
            "austin_1676.jpg  austin_2385.jpg  austin_3259.jpg  austin_768.jpg\n",
            "austin_1677.jpg  austin_2386.jpg  austin_3260.jpg  austin_769.jpg\n",
            "austin_1688.jpg  austin_2387.jpg  austin_3261.jpg  austin_76.jpg\n",
            "austin_1689.jpg  austin_2390.jpg  austin_3262.jpg  austin_778.jpg\n",
            "austin_168.jpg\t austin_2391.jpg  austin_3263.jpg  austin_779.jpg\n",
            "austin_1698.jpg  austin_2392.jpg  austin_3264.jpg  austin_77.jpg\n",
            "austin_1699.jpg  austin_2393.jpg  austin_3266.jpg  austin_780.jpg\n",
            "austin_169.jpg\t austin_2394.jpg  austin_3267.jpg  austin_782.jpg\n",
            "austin_1700.jpg  austin_2395.jpg  austin_3270.jpg  austin_783.jpg\n",
            "austin_1701.jpg  austin_2396.jpg  austin_3271.jpg  austin_784.jpg\n",
            "austin_1702.jpg  austin_2397.jpg  austin_3272.jpg  austin_785.jpg\n",
            "austin_1703.jpg  austin_2408.jpg  austin_3273.jpg  austin_786.jpg\n",
            "austin_1704.jpg  austin_2409.jpg  austin_3274.jpg  austin_787.jpg\n",
            "austin_1706.jpg  austin_2418.jpg  austin_3275.jpg  austin_790.jpg\n",
            "austin_1707.jpg  austin_2419.jpg  austin_3276.jpg  austin_791.jpg\n",
            "austin_1710.jpg  austin_2420.jpg  austin_3277.jpg  austin_792.jpg\n",
            "austin_1711.jpg  austin_2421.jpg  austin_3288.jpg  austin_793.jpg\n",
            "austin_1712.jpg  austin_2422.jpg  austin_3289.jpg  austin_794.jpg\n",
            "austin_1713.jpg  austin_2423.jpg  austin_3298.jpg  austin_795.jpg\n",
            "austin_1714.jpg  austin_2424.jpg  austin_3299.jpg  austin_796.jpg\n",
            "austin_1715.jpg  austin_2425.jpg  austin_3300.jpg  austin_797.jpg\n",
            "austin_1716.jpg  austin_2426.jpg  austin_3301.jpg  austin_800.jpg\n",
            "austin_1717.jpg  austin_2427.jpg  austin_3302.jpg  austin_801.jpg\n",
            "austin_1728.jpg  austin_2430.jpg  austin_3303.jpg  austin_802.jpg\n",
            "austin_1729.jpg  austin_2431.jpg  austin_3304.jpg  austin_803.jpg\n",
            "austin_1739.jpg  austin_2432.jpg  austin_3305.jpg  austin_804.jpg\n",
            "austin_1788.jpg  austin_2433.jpg  austin_3306.jpg  austin_806.jpg\n",
            "austin_1789.jpg  austin_2434.jpg  austin_3307.jpg  austin_807.jpg\n",
            "austin_180.jpg\t austin_2435.jpg  austin_3310.jpg  austin_810.jpg\n",
            "austin_1818.jpg  austin_2436.jpg  austin_3311.jpg  austin_812.jpg\n",
            "austin_181.jpg\t austin_2437.jpg  austin_3312.jpg  austin_813.jpg\n",
            "austin_1824.jpg  austin_2444.jpg  austin_3313.jpg  austin_814.jpg\n",
            "austin_182.jpg\t austin_2450.jpg  austin_3314.jpg  austin_815.jpg\n",
            "austin_1830.jpg  austin_2487.jpg  austin_3315.jpg  austin_816.jpg\n",
            "austin_183.jpg\t austin_2493.jpg  austin_3316.jpg  austin_817.jpg\n",
            "austin_1840.jpg  austin_2531.jpg  austin_3317.jpg  austin_828.jpg\n",
            "austin_1841.jpg  austin_2540.jpg  austin_3328.jpg  austin_829.jpg\n",
            "austin_1842.jpg  austin_2541.jpg  austin_3329.jpg  austin_862.jpg\n",
            "austin_1844.jpg  austin_2543.jpg  austin_3338.jpg  austin_876.jpg\n",
            "austin_1845.jpg  austin_2544.jpg  austin_3339.jpg  austin_88.jpg\n",
            "austin_1846.jpg  austin_2545.jpg  austin_335.jpg   austin_89.jpg\n",
            "austin_1847.jpg  austin_2546.jpg  austin_3362.jpg  austin_8.jpg\n",
            "austin_184.jpg\t austin_2547.jpg  austin_3376.jpg  austin_916.jpg\n",
            "austin_1850.jpg  austin_2550.jpg  austin_3389.jpg  austin_948.jpg\n",
            "austin_1851.jpg  austin_2551.jpg  austin_3404.jpg  austin_949.jpg\n",
            "austin_1852.jpg  austin_2552.jpg  austin_340.jpg   austin_958.jpg\n",
            "austin_1853.jpg  austin_2553.jpg  austin_3410.jpg  austin_959.jpg\n",
            "austin_1854.jpg  austin_2554.jpg  austin_341.jpg   austin_960.jpg\n",
            "austin_1855.jpg  austin_2555.jpg  austin_342.jpg   austin_961.jpg\n",
            "austin_1856.jpg  austin_2556.jpg  austin_3438.jpg  austin_962.jpg\n",
            "austin_1857.jpg  austin_2557.jpg  austin_343.jpg   austin_963.jpg\n",
            "austin_185.jpg\t austin_2568.jpg  austin_3448.jpg  austin_966.jpg\n",
            "austin_1868.jpg  austin_2569.jpg  austin_3449.jpg  austin_967.jpg\n",
            "austin_1869.jpg  austin_2578.jpg  austin_344.jpg   austin_970.jpg\n",
            "austin_1878.jpg  austin_2579.jpg  austin_3458.jpg  austin_972.jpg\n",
            "austin_1879.jpg  austin_2580.jpg  austin_3459.jpg  austin_973.jpg\n",
            "austin_1880.jpg  austin_2581.jpg  austin_345.jpg   austin_974.jpg\n",
            "austin_1881.jpg  austin_2582.jpg  austin_3460.jpg  austin_975.jpg\n",
            "austin_1882.jpg  austin_2583.jpg  austin_3461.jpg  austin_976.jpg\n",
            "austin_1883.jpg  austin_2584.jpg  austin_3462.jpg  austin_977.jpg\n",
            "austin_1884.jpg  austin_2585.jpg  austin_3463.jpg  austin_988.jpg\n",
            "austin_1885.jpg  austin_2586.jpg  austin_3464.jpg  austin_989.jpg\n",
            "austin_1886.jpg  austin_2587.jpg  austin_3465.jpg  austin_98.jpg\n",
            "austin_1887.jpg  austin_2590.jpg  austin_3466.jpg  austin_998.jpg\n",
            "austin_1890.jpg  austin_2591.jpg  austin_3467.jpg  austin_999.jpg\n",
            "austin_1891.jpg  austin_2592.jpg  austin_346.jpg   austin_99.jpg\n",
            "austin_1892.jpg  austin_2593.jpg  austin_3470.jpg  austin_9.jpg\n",
            "austin_1893.jpg  austin_2596.jpg  austin_3471.jpg  austin.csv\n",
            "austin_1894.jpg  austin_2597.jpg  austin_3472.jpg  data\n"
          ]
        }
      ]
    },
    {
      "cell_type": "code",
      "source": [
        "#label csv\n",
        "austin_df = pd.read_csv(\"/content/drive/My Drive/austin-zoning-satellite-images-main/data/data/austin.csv\")\n",
        "austin_df = austin_df.drop('Unnamed: 0', axis = 1)\n",
        "austin_df.head()"
      ],
      "metadata": {
        "id": "XdH2lPnlNTVu"
      },
      "execution_count": null,
      "outputs": []
    },
    {
      "cell_type": "code",
      "source": [
        ""
      ],
      "metadata": {
        "id": "DPfmzMz5OhWn"
      },
      "execution_count": null,
      "outputs": []
    }
  ]
}