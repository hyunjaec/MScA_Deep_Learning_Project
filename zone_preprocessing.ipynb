{
 "cells": [
  {
   "cell_type": "code",
   "execution_count": 1,
   "id": "9c831796",
   "metadata": {},
   "outputs": [],
   "source": [
    "#import libraries\n",
    "import numpy as np\n",
    "import pandas as pd\n",
    "import matplotlib.pyplot as plt\n",
    "import re"
   ]
  },
  {
   "cell_type": "code",
   "execution_count": 2,
   "id": "d0b63f82",
   "metadata": {},
   "outputs": [
    {
     "data": {
      "text/html": [
       "<div>\n",
       "<style scoped>\n",
       "    .dataframe tbody tr th:only-of-type {\n",
       "        vertical-align: middle;\n",
       "    }\n",
       "\n",
       "    .dataframe tbody tr th {\n",
       "        vertical-align: top;\n",
       "    }\n",
       "\n",
       "    .dataframe thead th {\n",
       "        text-align: right;\n",
       "    }\n",
       "</style>\n",
       "<table border=\"1\" class=\"dataframe\">\n",
       "  <thead>\n",
       "    <tr style=\"text-align: right;\">\n",
       "      <th></th>\n",
       "      <th>image_name</th>\n",
       "      <th>zoning_id</th>\n",
       "      <th>zoning_zty</th>\n",
       "    </tr>\n",
       "  </thead>\n",
       "  <tbody>\n",
       "    <tr>\n",
       "      <th>0</th>\n",
       "      <td>data/austin_0.jpg</td>\n",
       "      <td>229791</td>\n",
       "      <td>PUD</td>\n",
       "    </tr>\n",
       "    <tr>\n",
       "      <th>1</th>\n",
       "      <td>data/austin_1.jpg</td>\n",
       "      <td>229791</td>\n",
       "      <td>PUD</td>\n",
       "    </tr>\n",
       "    <tr>\n",
       "      <th>2</th>\n",
       "      <td>data/austin_2.jpg</td>\n",
       "      <td>400523442</td>\n",
       "      <td>I-RR</td>\n",
       "    </tr>\n",
       "    <tr>\n",
       "      <th>3</th>\n",
       "      <td>data/austin_3.jpg</td>\n",
       "      <td>229791</td>\n",
       "      <td>PUD</td>\n",
       "    </tr>\n",
       "    <tr>\n",
       "      <th>4</th>\n",
       "      <td>data/austin_4.jpg</td>\n",
       "      <td>229791</td>\n",
       "      <td>PUD</td>\n",
       "    </tr>\n",
       "    <tr>\n",
       "      <th>...</th>\n",
       "      <td>...</td>\n",
       "      <td>...</td>\n",
       "      <td>...</td>\n",
       "    </tr>\n",
       "    <tr>\n",
       "      <th>3662</th>\n",
       "      <td>data/austin_3662.jpg</td>\n",
       "      <td>136346</td>\n",
       "      <td>PUD</td>\n",
       "    </tr>\n",
       "    <tr>\n",
       "      <th>3663</th>\n",
       "      <td>data/austin_3663.jpg</td>\n",
       "      <td>136346</td>\n",
       "      <td>PUD</td>\n",
       "    </tr>\n",
       "    <tr>\n",
       "      <th>3664</th>\n",
       "      <td>data/austin_3664.jpg</td>\n",
       "      <td>136346</td>\n",
       "      <td>PUD</td>\n",
       "    </tr>\n",
       "    <tr>\n",
       "      <th>3665</th>\n",
       "      <td>data/austin_3665.jpg</td>\n",
       "      <td>136346</td>\n",
       "      <td>PUD</td>\n",
       "    </tr>\n",
       "    <tr>\n",
       "      <th>3666</th>\n",
       "      <td>data/austin_3666.jpg</td>\n",
       "      <td>127992</td>\n",
       "      <td>PUD</td>\n",
       "    </tr>\n",
       "  </tbody>\n",
       "</table>\n",
       "<p>3667 rows × 3 columns</p>\n",
       "</div>"
      ],
      "text/plain": [
       "                image_name  zoning_id zoning_zty\n",
       "0        data/austin_0.jpg     229791        PUD\n",
       "1        data/austin_1.jpg     229791        PUD\n",
       "2        data/austin_2.jpg  400523442       I-RR\n",
       "3        data/austin_3.jpg     229791        PUD\n",
       "4        data/austin_4.jpg     229791        PUD\n",
       "...                    ...        ...        ...\n",
       "3662  data/austin_3662.jpg     136346        PUD\n",
       "3663  data/austin_3663.jpg     136346        PUD\n",
       "3664  data/austin_3664.jpg     136346        PUD\n",
       "3665  data/austin_3665.jpg     136346        PUD\n",
       "3666  data/austin_3666.jpg     127992        PUD\n",
       "\n",
       "[3667 rows x 3 columns]"
      ]
     },
     "execution_count": 2,
     "metadata": {},
     "output_type": "execute_result"
    }
   ],
   "source": [
    "#read in csv data\n",
    "austin = pd.read_csv('data/austin.csv', index_col = None)\n",
    "austin = austin.drop('Unnamed: 0', axis = 1)\n",
    "austin"
   ]
  },
  {
   "cell_type": "code",
   "execution_count": 3,
   "id": "4d906319",
   "metadata": {},
   "outputs": [
    {
     "data": {
      "text/plain": [
       "PUD                  505\n",
       "SF-2                 292\n",
       "I-RR                 275\n",
       "SF-3-NP              242\n",
       "P                    222\n",
       "                    ... \n",
       "P-NCCD-NP              1\n",
       "SF-3-NCCD-NP-HD        1\n",
       "MF-4-NCCD-NP           1\n",
       "SF-3-H-HD-NCCD-NP      1\n",
       "I-MF-2                 1\n",
       "Name: zoning_zty, Length: 167, dtype: int64"
      ]
     },
     "execution_count": 3,
     "metadata": {},
     "output_type": "execute_result"
    }
   ],
   "source": [
    "#look at how many values there are\n",
    "austin['zoning_zty'].value_counts()"
   ]
  },
  {
   "cell_type": "markdown",
   "id": "f6efc2bc",
   "metadata": {},
   "source": [
    "There are far too many unique classes, so we will combine them into 4 basic classes: residential, commercial, industrial, and special. Zones retrieved from:\n",
    "https://www.austintexas.gov/sites/default/files/files/Planning/CodeNEXT/Draft_3_LDC_Guide.pdf"
   ]
  },
  {
   "cell_type": "code",
   "execution_count": 4,
   "id": "47b87e5c",
   "metadata": {},
   "outputs": [],
   "source": [
    "residential = ['LA',\n",
    "            'RR',\n",
    "            'SF-1',\n",
    "            'SF-2',\n",
    "            'SF-3',\n",
    "            'SF-4A',\n",
    "            'SF-4-A,'\n",
    "            'SF-4B',\n",
    "            'SF-5',\n",
    "            'SF-6',\n",
    "            'MF-1',\n",
    "            'MF-2',\n",
    "            'MF-3',\n",
    "            'MF-4',\n",
    "            'MF-5',\n",
    "            'MF-6',\n",
    "            'MF-CO',\n",
    "            'MH']\n",
    "\n",
    "commercial = ['NO',\n",
    "            'LO',\n",
    "            'GO',\n",
    "            'CR',\n",
    "            'LR',\n",
    "            'GR',\n",
    "            'L',\n",
    "            'CBD',\n",
    "            'DMU',\n",
    "            'W/LO',\n",
    "            'CS',\n",
    "            'CS-1',\n",
    "            'CH']\n",
    "\n",
    "industrial = ['IP', 'LI', 'MI', 'R&D']\n",
    "\n",
    "special = ['DR', 'AV', 'AG', 'P', 'PUD', 'TN', 'ERC', 'UNZ']"
   ]
  },
  {
   "cell_type": "code",
   "execution_count": 5,
   "id": "a1cdae45",
   "metadata": {},
   "outputs": [],
   "source": [
    "#create new column called \"zone\"\n",
    "austin.loc[:, 'zone'] = np.nan"
   ]
  },
  {
   "cell_type": "code",
   "execution_count": 6,
   "id": "aba3f099",
   "metadata": {},
   "outputs": [],
   "source": [
    "#loop through list of zone codes, map specific zone codes to R, C, I, or S\n",
    "for i in residential:\n",
    "    austin.loc[:, 'zone'] = np.where(austin.loc[:, 'zoning_zty'].str.contains(i) == True, \n",
    "                                     'R', austin.loc[:,'zone'])\n",
    "for i in industrial:\n",
    "    austin.loc[:, 'zone'] = np.where(((austin.loc[:, 'zoning_zty'].str.contains(i) == True) & (austin.loc[:, 'zone'] != 'R')), \n",
    "                                     'I', austin.loc[:,'zone'])\n",
    "for i in commercial:\n",
    "    austin.loc[:, 'zone'] = np.where((austin.loc[:, 'zoning_zty'].str.contains(i) == True) & \\\n",
    "                                     (austin.loc[:, 'zone'] != 'R') & (austin.loc[:, 'zone'] != 'I'), \n",
    "                                     'C', austin.loc[:,'zone'])\n",
    "for i in special:\n",
    "    austin.loc[:, 'zone'] = np.where((austin.loc[:, 'zoning_zty'].str.contains(i) == True) & \\\n",
    "                                     (austin.loc[:, 'zone'] != 'I') & (austin.loc[:, 'zone'] != 'R') &\\\n",
    "                                     (austin.loc[:, 'zone'] != 'C'), \n",
    "                                     'S', austin.loc[:,'zone'])"
   ]
  },
  {
   "cell_type": "code",
   "execution_count": 7,
   "id": "b6f41e31",
   "metadata": {},
   "outputs": [
    {
     "data": {
      "text/plain": [
       "R      1746\n",
       "S      1235\n",
       "C       446\n",
       "I       239\n",
       "nan       1\n",
       "Name: zone, dtype: int64"
      ]
     },
     "execution_count": 7,
     "metadata": {},
     "output_type": "execute_result"
    }
   ],
   "source": [
    "#check values\n",
    "austin['zone'].value_counts()"
   ]
  },
  {
   "cell_type": "code",
   "execution_count": 8,
   "id": "fe30c51c",
   "metadata": {},
   "outputs": [
    {
     "data": {
      "text/html": [
       "<div>\n",
       "<style scoped>\n",
       "    .dataframe tbody tr th:only-of-type {\n",
       "        vertical-align: middle;\n",
       "    }\n",
       "\n",
       "    .dataframe tbody tr th {\n",
       "        vertical-align: top;\n",
       "    }\n",
       "\n",
       "    .dataframe thead th {\n",
       "        text-align: right;\n",
       "    }\n",
       "</style>\n",
       "<table border=\"1\" class=\"dataframe\">\n",
       "  <thead>\n",
       "    <tr style=\"text-align: right;\">\n",
       "      <th></th>\n",
       "      <th>image_name</th>\n",
       "      <th>zoning_id</th>\n",
       "      <th>zoning_zty</th>\n",
       "      <th>zone</th>\n",
       "    </tr>\n",
       "  </thead>\n",
       "  <tbody>\n",
       "    <tr>\n",
       "      <th>303</th>\n",
       "      <td>data/austin_303.jpg</td>\n",
       "      <td>120090</td>\n",
       "      <td>SF-4-A</td>\n",
       "      <td>nan</td>\n",
       "    </tr>\n",
       "  </tbody>\n",
       "</table>\n",
       "</div>"
      ],
      "text/plain": [
       "              image_name  zoning_id zoning_zty zone\n",
       "303  data/austin_303.jpg     120090     SF-4-A  nan"
      ]
     },
     "execution_count": 8,
     "metadata": {},
     "output_type": "execute_result"
    }
   ],
   "source": [
    "#which one is still nan?\n",
    "austin[austin['zone'] == 'nan']"
   ]
  },
  {
   "cell_type": "code",
   "execution_count": 9,
   "id": "d6665fa5",
   "metadata": {},
   "outputs": [],
   "source": [
    "#manually set this one\n",
    "austin.loc[303, 'zone'] = 'R'"
   ]
  },
  {
   "cell_type": "code",
   "execution_count": 10,
   "id": "2388499d",
   "metadata": {},
   "outputs": [
    {
     "data": {
      "text/plain": [
       "R    1747\n",
       "S    1235\n",
       "C     446\n",
       "I     239\n",
       "Name: zone, dtype: int64"
      ]
     },
     "execution_count": 10,
     "metadata": {},
     "output_type": "execute_result"
    }
   ],
   "source": [
    "austin['zone'].value_counts()"
   ]
  }
 ],
 "metadata": {
  "kernelspec": {
   "display_name": "Python 3 (ipykernel)",
   "language": "python",
   "name": "python3"
  },
  "language_info": {
   "codemirror_mode": {
    "name": "ipython",
    "version": 3
   },
   "file_extension": ".py",
   "mimetype": "text/x-python",
   "name": "python",
   "nbconvert_exporter": "python",
   "pygments_lexer": "ipython3",
   "version": "3.9.7"
  }
 },
 "nbformat": 4,
 "nbformat_minor": 5
}
